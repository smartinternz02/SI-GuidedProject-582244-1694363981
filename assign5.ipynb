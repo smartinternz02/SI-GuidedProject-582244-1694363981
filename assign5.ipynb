{
  "cells": [
    {
      "cell_type": "markdown",
      "metadata": {
        "id": "sAXjZNjWX7AP"
      },
      "source": [
        "Name: Ashish Benny\n",
        "RegNo 21BPS1361"
      ]
    },
    {
      "cell_type": "markdown",
      "metadata": {
        "id": "sOGYM_ASYrFx"
      },
      "source": [
        "Customer Segmentation Dataset"
      ]
    },
    {
      "cell_type": "markdown",
      "metadata": {
        "id": "xihUbGi5bYws"
      },
      "source": [
        "## kaggle integration"
      ]
    },
    {
      "cell_type": "code",
      "execution_count": 1,
      "metadata": {
        "id": "kOV8R1dkX86N"
      },
      "outputs": [],
      "source": [
        "!pip install -q kaggle"
      ]
    },
    {
      "cell_type": "code",
      "execution_count": 2,
      "metadata": {
        "id": "t1VOgbE1X4jR"
      },
      "outputs": [],
      "source": [
        "!mkdir ~/.kaggle"
      ]
    },
    {
      "cell_type": "code",
      "execution_count": 3,
      "metadata": {
        "id": "Z57IdSmBZU7K"
      },
      "outputs": [],
      "source": [
        "!cp kaggle.json ~/.kaggle"
      ]
    },
    {
      "cell_type": "code",
      "execution_count": 4,
      "metadata": {
        "colab": {
          "base_uri": "https://localhost:8080/"
        },
        "id": "Nm13pSLJa6uC",
        "outputId": "6a1bf552-0d27-4016-b85e-7e6eba3f79df"
      },
      "outputs": [
        {
          "output_type": "stream",
          "name": "stdout",
          "text": [
            "Warning: Your Kaggle API key is readable by other users on this system! To fix this, you can run 'chmod 600 /root/.kaggle/kaggle.json'\n",
            "Downloading customer-segmentation-tutorial-in-python.zip to /content\n",
            "  0% 0.00/1.55k [00:00<?, ?B/s]\n",
            "100% 1.55k/1.55k [00:00<00:00, 4.28MB/s]\n"
          ]
        }
      ],
      "source": [
        "!kaggle datasets download -d vjchoudhary7/customer-segmentation-tutorial-in-python"
      ]
    },
    {
      "cell_type": "code",
      "execution_count": 5,
      "metadata": {
        "id": "r9lerozhy--v",
        "colab": {
          "base_uri": "https://localhost:8080/"
        },
        "outputId": "0b9f8c4e-cdd5-4303-cd06-42baf21bf669"
      },
      "outputs": [
        {
          "output_type": "stream",
          "name": "stdout",
          "text": [
            "Archive:  /content/customer-segmentation-tutorial-in-python.zip\n",
            "  inflating: Mall_Customers.csv      \n"
          ]
        }
      ],
      "source": [
        "!unzip /content/customer-segmentation-tutorial-in-python.zip"
      ]
    },
    {
      "cell_type": "markdown",
      "metadata": {
        "id": "_rtKPHg0bfbJ"
      },
      "source": [
        "##Importing Libraries"
      ]
    },
    {
      "cell_type": "code",
      "execution_count": 6,
      "metadata": {
        "id": "UoovMuiJbrol"
      },
      "outputs": [],
      "source": [
        "import pandas as pd\n",
        "import numpy as np"
      ]
    },
    {
      "cell_type": "code",
      "execution_count": 7,
      "metadata": {
        "id": "rd2LLRjmbRiW"
      },
      "outputs": [],
      "source": [
        "df=pd.read_csv('/content/Mall_Customers.csv')"
      ]
    },
    {
      "cell_type": "code",
      "execution_count": 8,
      "metadata": {
        "colab": {
          "base_uri": "https://localhost:8080/",
          "height": 206
        },
        "id": "vDYFcAdwbrAj",
        "outputId": "e15fcedb-2d8b-4124-97e7-0b33d936f814"
      },
      "outputs": [
        {
          "output_type": "execute_result",
          "data": {
            "text/plain": [
              "   CustomerID  Gender  Age  Annual Income (k$)  Spending Score (1-100)\n",
              "0           1    Male   19                  15                      39\n",
              "1           2    Male   21                  15                      81\n",
              "2           3  Female   20                  16                       6\n",
              "3           4  Female   23                  16                      77\n",
              "4           5  Female   31                  17                      40"
            ],
            "text/html": [
              "\n",
              "  <div id=\"df-116ceeed-e2a3-467d-9f49-86e19fd77fc4\" class=\"colab-df-container\">\n",
              "    <div>\n",
              "<style scoped>\n",
              "    .dataframe tbody tr th:only-of-type {\n",
              "        vertical-align: middle;\n",
              "    }\n",
              "\n",
              "    .dataframe tbody tr th {\n",
              "        vertical-align: top;\n",
              "    }\n",
              "\n",
              "    .dataframe thead th {\n",
              "        text-align: right;\n",
              "    }\n",
              "</style>\n",
              "<table border=\"1\" class=\"dataframe\">\n",
              "  <thead>\n",
              "    <tr style=\"text-align: right;\">\n",
              "      <th></th>\n",
              "      <th>CustomerID</th>\n",
              "      <th>Gender</th>\n",
              "      <th>Age</th>\n",
              "      <th>Annual Income (k$)</th>\n",
              "      <th>Spending Score (1-100)</th>\n",
              "    </tr>\n",
              "  </thead>\n",
              "  <tbody>\n",
              "    <tr>\n",
              "      <th>0</th>\n",
              "      <td>1</td>\n",
              "      <td>Male</td>\n",
              "      <td>19</td>\n",
              "      <td>15</td>\n",
              "      <td>39</td>\n",
              "    </tr>\n",
              "    <tr>\n",
              "      <th>1</th>\n",
              "      <td>2</td>\n",
              "      <td>Male</td>\n",
              "      <td>21</td>\n",
              "      <td>15</td>\n",
              "      <td>81</td>\n",
              "    </tr>\n",
              "    <tr>\n",
              "      <th>2</th>\n",
              "      <td>3</td>\n",
              "      <td>Female</td>\n",
              "      <td>20</td>\n",
              "      <td>16</td>\n",
              "      <td>6</td>\n",
              "    </tr>\n",
              "    <tr>\n",
              "      <th>3</th>\n",
              "      <td>4</td>\n",
              "      <td>Female</td>\n",
              "      <td>23</td>\n",
              "      <td>16</td>\n",
              "      <td>77</td>\n",
              "    </tr>\n",
              "    <tr>\n",
              "      <th>4</th>\n",
              "      <td>5</td>\n",
              "      <td>Female</td>\n",
              "      <td>31</td>\n",
              "      <td>17</td>\n",
              "      <td>40</td>\n",
              "    </tr>\n",
              "  </tbody>\n",
              "</table>\n",
              "</div>\n",
              "    <div class=\"colab-df-buttons\">\n",
              "\n",
              "  <div class=\"colab-df-container\">\n",
              "    <button class=\"colab-df-convert\" onclick=\"convertToInteractive('df-116ceeed-e2a3-467d-9f49-86e19fd77fc4')\"\n",
              "            title=\"Convert this dataframe to an interactive table.\"\n",
              "            style=\"display:none;\">\n",
              "\n",
              "  <svg xmlns=\"http://www.w3.org/2000/svg\" height=\"24px\" viewBox=\"0 -960 960 960\">\n",
              "    <path d=\"M120-120v-720h720v720H120Zm60-500h600v-160H180v160Zm220 220h160v-160H400v160Zm0 220h160v-160H400v160ZM180-400h160v-160H180v160Zm440 0h160v-160H620v160ZM180-180h160v-160H180v160Zm440 0h160v-160H620v160Z\"/>\n",
              "  </svg>\n",
              "    </button>\n",
              "\n",
              "  <style>\n",
              "    .colab-df-container {\n",
              "      display:flex;\n",
              "      gap: 12px;\n",
              "    }\n",
              "\n",
              "    .colab-df-convert {\n",
              "      background-color: #E8F0FE;\n",
              "      border: none;\n",
              "      border-radius: 50%;\n",
              "      cursor: pointer;\n",
              "      display: none;\n",
              "      fill: #1967D2;\n",
              "      height: 32px;\n",
              "      padding: 0 0 0 0;\n",
              "      width: 32px;\n",
              "    }\n",
              "\n",
              "    .colab-df-convert:hover {\n",
              "      background-color: #E2EBFA;\n",
              "      box-shadow: 0px 1px 2px rgba(60, 64, 67, 0.3), 0px 1px 3px 1px rgba(60, 64, 67, 0.15);\n",
              "      fill: #174EA6;\n",
              "    }\n",
              "\n",
              "    .colab-df-buttons div {\n",
              "      margin-bottom: 4px;\n",
              "    }\n",
              "\n",
              "    [theme=dark] .colab-df-convert {\n",
              "      background-color: #3B4455;\n",
              "      fill: #D2E3FC;\n",
              "    }\n",
              "\n",
              "    [theme=dark] .colab-df-convert:hover {\n",
              "      background-color: #434B5C;\n",
              "      box-shadow: 0px 1px 3px 1px rgba(0, 0, 0, 0.15);\n",
              "      filter: drop-shadow(0px 1px 2px rgba(0, 0, 0, 0.3));\n",
              "      fill: #FFFFFF;\n",
              "    }\n",
              "  </style>\n",
              "\n",
              "    <script>\n",
              "      const buttonEl =\n",
              "        document.querySelector('#df-116ceeed-e2a3-467d-9f49-86e19fd77fc4 button.colab-df-convert');\n",
              "      buttonEl.style.display =\n",
              "        google.colab.kernel.accessAllowed ? 'block' : 'none';\n",
              "\n",
              "      async function convertToInteractive(key) {\n",
              "        const element = document.querySelector('#df-116ceeed-e2a3-467d-9f49-86e19fd77fc4');\n",
              "        const dataTable =\n",
              "          await google.colab.kernel.invokeFunction('convertToInteractive',\n",
              "                                                    [key], {});\n",
              "        if (!dataTable) return;\n",
              "\n",
              "        const docLinkHtml = 'Like what you see? Visit the ' +\n",
              "          '<a target=\"_blank\" href=https://colab.research.google.com/notebooks/data_table.ipynb>data table notebook</a>'\n",
              "          + ' to learn more about interactive tables.';\n",
              "        element.innerHTML = '';\n",
              "        dataTable['output_type'] = 'display_data';\n",
              "        await google.colab.output.renderOutput(dataTable, element);\n",
              "        const docLink = document.createElement('div');\n",
              "        docLink.innerHTML = docLinkHtml;\n",
              "        element.appendChild(docLink);\n",
              "      }\n",
              "    </script>\n",
              "  </div>\n",
              "\n",
              "\n",
              "<div id=\"df-95baf0eb-5982-4d8a-8418-813c649a3684\">\n",
              "  <button class=\"colab-df-quickchart\" onclick=\"quickchart('df-95baf0eb-5982-4d8a-8418-813c649a3684')\"\n",
              "            title=\"Suggest charts.\"\n",
              "            style=\"display:none;\">\n",
              "\n",
              "<svg xmlns=\"http://www.w3.org/2000/svg\" height=\"24px\"viewBox=\"0 0 24 24\"\n",
              "     width=\"24px\">\n",
              "    <g>\n",
              "        <path d=\"M19 3H5c-1.1 0-2 .9-2 2v14c0 1.1.9 2 2 2h14c1.1 0 2-.9 2-2V5c0-1.1-.9-2-2-2zM9 17H7v-7h2v7zm4 0h-2V7h2v10zm4 0h-2v-4h2v4z\"/>\n",
              "    </g>\n",
              "</svg>\n",
              "  </button>\n",
              "\n",
              "<style>\n",
              "  .colab-df-quickchart {\n",
              "      --bg-color: #E8F0FE;\n",
              "      --fill-color: #1967D2;\n",
              "      --hover-bg-color: #E2EBFA;\n",
              "      --hover-fill-color: #174EA6;\n",
              "      --disabled-fill-color: #AAA;\n",
              "      --disabled-bg-color: #DDD;\n",
              "  }\n",
              "\n",
              "  [theme=dark] .colab-df-quickchart {\n",
              "      --bg-color: #3B4455;\n",
              "      --fill-color: #D2E3FC;\n",
              "      --hover-bg-color: #434B5C;\n",
              "      --hover-fill-color: #FFFFFF;\n",
              "      --disabled-bg-color: #3B4455;\n",
              "      --disabled-fill-color: #666;\n",
              "  }\n",
              "\n",
              "  .colab-df-quickchart {\n",
              "    background-color: var(--bg-color);\n",
              "    border: none;\n",
              "    border-radius: 50%;\n",
              "    cursor: pointer;\n",
              "    display: none;\n",
              "    fill: var(--fill-color);\n",
              "    height: 32px;\n",
              "    padding: 0;\n",
              "    width: 32px;\n",
              "  }\n",
              "\n",
              "  .colab-df-quickchart:hover {\n",
              "    background-color: var(--hover-bg-color);\n",
              "    box-shadow: 0 1px 2px rgba(60, 64, 67, 0.3), 0 1px 3px 1px rgba(60, 64, 67, 0.15);\n",
              "    fill: var(--button-hover-fill-color);\n",
              "  }\n",
              "\n",
              "  .colab-df-quickchart-complete:disabled,\n",
              "  .colab-df-quickchart-complete:disabled:hover {\n",
              "    background-color: var(--disabled-bg-color);\n",
              "    fill: var(--disabled-fill-color);\n",
              "    box-shadow: none;\n",
              "  }\n",
              "\n",
              "  .colab-df-spinner {\n",
              "    border: 2px solid var(--fill-color);\n",
              "    border-color: transparent;\n",
              "    border-bottom-color: var(--fill-color);\n",
              "    animation:\n",
              "      spin 1s steps(1) infinite;\n",
              "  }\n",
              "\n",
              "  @keyframes spin {\n",
              "    0% {\n",
              "      border-color: transparent;\n",
              "      border-bottom-color: var(--fill-color);\n",
              "      border-left-color: var(--fill-color);\n",
              "    }\n",
              "    20% {\n",
              "      border-color: transparent;\n",
              "      border-left-color: var(--fill-color);\n",
              "      border-top-color: var(--fill-color);\n",
              "    }\n",
              "    30% {\n",
              "      border-color: transparent;\n",
              "      border-left-color: var(--fill-color);\n",
              "      border-top-color: var(--fill-color);\n",
              "      border-right-color: var(--fill-color);\n",
              "    }\n",
              "    40% {\n",
              "      border-color: transparent;\n",
              "      border-right-color: var(--fill-color);\n",
              "      border-top-color: var(--fill-color);\n",
              "    }\n",
              "    60% {\n",
              "      border-color: transparent;\n",
              "      border-right-color: var(--fill-color);\n",
              "    }\n",
              "    80% {\n",
              "      border-color: transparent;\n",
              "      border-right-color: var(--fill-color);\n",
              "      border-bottom-color: var(--fill-color);\n",
              "    }\n",
              "    90% {\n",
              "      border-color: transparent;\n",
              "      border-bottom-color: var(--fill-color);\n",
              "    }\n",
              "  }\n",
              "</style>\n",
              "\n",
              "  <script>\n",
              "    async function quickchart(key) {\n",
              "      const quickchartButtonEl =\n",
              "        document.querySelector('#' + key + ' button');\n",
              "      quickchartButtonEl.disabled = true;  // To prevent multiple clicks.\n",
              "      quickchartButtonEl.classList.add('colab-df-spinner');\n",
              "      try {\n",
              "        const charts = await google.colab.kernel.invokeFunction(\n",
              "            'suggestCharts', [key], {});\n",
              "      } catch (error) {\n",
              "        console.error('Error during call to suggestCharts:', error);\n",
              "      }\n",
              "      quickchartButtonEl.classList.remove('colab-df-spinner');\n",
              "      quickchartButtonEl.classList.add('colab-df-quickchart-complete');\n",
              "    }\n",
              "    (() => {\n",
              "      let quickchartButtonEl =\n",
              "        document.querySelector('#df-95baf0eb-5982-4d8a-8418-813c649a3684 button');\n",
              "      quickchartButtonEl.style.display =\n",
              "        google.colab.kernel.accessAllowed ? 'block' : 'none';\n",
              "    })();\n",
              "  </script>\n",
              "</div>\n",
              "    </div>\n",
              "  </div>\n"
            ]
          },
          "metadata": {},
          "execution_count": 8
        }
      ],
      "source": [
        "df.head()"
      ]
    },
    {
      "cell_type": "code",
      "execution_count": 10,
      "metadata": {
        "colab": {
          "base_uri": "https://localhost:8080/"
        },
        "id": "LP_ykgEpcFCY",
        "outputId": "90d96ea8-d7a7-4e1e-e831-2330d9e1fd8d"
      },
      "outputs": [
        {
          "output_type": "execute_result",
          "data": {
            "text/plain": [
              "Female    112\n",
              "Male       88\n",
              "Name: Gender, dtype: int64"
            ]
          },
          "metadata": {},
          "execution_count": 10
        }
      ],
      "source": [
        "df['Gender'].value_counts()"
      ]
    },
    {
      "cell_type": "code",
      "execution_count": 11,
      "metadata": {
        "colab": {
          "base_uri": "https://localhost:8080/"
        },
        "id": "9nACfhXPcJvI",
        "outputId": "e9bc190a-f119-466e-b803-61513c40e9de"
      },
      "outputs": [
        {
          "output_type": "execute_result",
          "data": {
            "text/plain": [
              "Gender                    0\n",
              "Age                       0\n",
              "Annual Income (k$)        0\n",
              "Spending Score (1-100)    0\n",
              "dtype: int64"
            ]
          },
          "metadata": {},
          "execution_count": 11
        }
      ],
      "source": [
        "new_df=df.drop(columns='CustomerID',axis=1)\n",
        "new_df.isnull().sum()"
      ]
    },
    {
      "cell_type": "code",
      "execution_count": 34,
      "metadata": {
        "colab": {
          "base_uri": "https://localhost:8080/"
        },
        "id": "ZiCJEzi7b9xr",
        "outputId": "548fc484-6538-4729-9fb3-ea562b59d2ac"
      },
      "outputs": [
        {
          "output_type": "execute_result",
          "data": {
            "text/plain": [
              "(200, 4)"
            ]
          },
          "metadata": {},
          "execution_count": 34
        }
      ],
      "source": [
        "new_df.shape"
      ]
    },
    {
      "cell_type": "markdown",
      "metadata": {
        "id": "PGmMaIBTVH5P"
      },
      "source": [
        "##Label Encoding"
      ]
    },
    {
      "cell_type": "code",
      "execution_count": 15,
      "metadata": {
        "id": "qHyERbuRVM8B"
      },
      "outputs": [],
      "source": [
        "from sklearn.preprocessing import LabelEncoder\n",
        "le=LabelEncoder()\n",
        "new_df['Gender']=le.fit_transform(new_df['Gender'])"
      ]
    },
    {
      "cell_type": "markdown",
      "source": [
        "##Fit Transform"
      ],
      "metadata": {
        "id": "P7gCfnZ63tx_"
      }
    },
    {
      "cell_type": "code",
      "source": [
        "from sklearn.preprocessing import MinMaxScaler\n",
        "new_df=MinMaxScaler().fit_transform(new_df)\n",
        "new_df"
      ],
      "metadata": {
        "colab": {
          "base_uri": "https://localhost:8080/"
        },
        "id": "D1lUkK8w3wso",
        "outputId": "6f425f57-dccf-4629-c1c6-1752419ff00b"
      },
      "execution_count": 21,
      "outputs": [
        {
          "output_type": "execute_result",
          "data": {
            "text/plain": [
              "array([[1.        , 0.01923077, 0.        , 0.3877551 ],\n",
              "       [1.        , 0.05769231, 0.        , 0.81632653],\n",
              "       [0.        , 0.03846154, 0.00819672, 0.05102041],\n",
              "       [0.        , 0.09615385, 0.00819672, 0.7755102 ],\n",
              "       [0.        , 0.25      , 0.01639344, 0.39795918],\n",
              "       [0.        , 0.07692308, 0.01639344, 0.76530612],\n",
              "       [0.        , 0.32692308, 0.02459016, 0.05102041],\n",
              "       [0.        , 0.09615385, 0.02459016, 0.94897959],\n",
              "       [1.        , 0.88461538, 0.03278689, 0.02040816],\n",
              "       [0.        , 0.23076923, 0.03278689, 0.7244898 ],\n",
              "       [1.        , 0.94230769, 0.03278689, 0.13265306],\n",
              "       [0.        , 0.32692308, 0.03278689, 1.        ],\n",
              "       [0.        , 0.76923077, 0.04098361, 0.14285714],\n",
              "       [0.        , 0.11538462, 0.04098361, 0.7755102 ],\n",
              "       [1.        , 0.36538462, 0.04098361, 0.12244898],\n",
              "       [1.        , 0.07692308, 0.04098361, 0.79591837],\n",
              "       [0.        , 0.32692308, 0.04918033, 0.34693878],\n",
              "       [1.        , 0.03846154, 0.04918033, 0.66326531],\n",
              "       [1.        , 0.65384615, 0.06557377, 0.28571429],\n",
              "       [0.        , 0.32692308, 0.06557377, 0.98979592],\n",
              "       [1.        , 0.32692308, 0.07377049, 0.34693878],\n",
              "       [1.        , 0.13461538, 0.07377049, 0.73469388],\n",
              "       [0.        , 0.53846154, 0.08196721, 0.04081633],\n",
              "       [1.        , 0.25      , 0.08196721, 0.73469388],\n",
              "       [0.        , 0.69230769, 0.10655738, 0.13265306],\n",
              "       [1.        , 0.21153846, 0.10655738, 0.82653061],\n",
              "       [0.        , 0.51923077, 0.10655738, 0.31632653],\n",
              "       [1.        , 0.32692308, 0.10655738, 0.6122449 ],\n",
              "       [0.        , 0.42307692, 0.1147541 , 0.30612245],\n",
              "       [0.        , 0.09615385, 0.1147541 , 0.87755102],\n",
              "       [1.        , 0.80769231, 0.12295082, 0.03061224],\n",
              "       [0.        , 0.05769231, 0.12295082, 0.73469388],\n",
              "       [1.        , 0.67307692, 0.14754098, 0.03061224],\n",
              "       [1.        , 0.        , 0.14754098, 0.92857143],\n",
              "       [0.        , 0.59615385, 0.14754098, 0.13265306],\n",
              "       [0.        , 0.05769231, 0.14754098, 0.81632653],\n",
              "       [0.        , 0.46153846, 0.1557377 , 0.16326531],\n",
              "       [0.        , 0.23076923, 0.1557377 , 0.73469388],\n",
              "       [0.        , 0.34615385, 0.18032787, 0.25510204],\n",
              "       [0.        , 0.03846154, 0.18032787, 0.75510204],\n",
              "       [0.        , 0.90384615, 0.18852459, 0.34693878],\n",
              "       [1.        , 0.11538462, 0.18852459, 0.92857143],\n",
              "       [1.        , 0.57692308, 0.19672131, 0.35714286],\n",
              "       [0.        , 0.25      , 0.19672131, 0.6122449 ],\n",
              "       [0.        , 0.59615385, 0.19672131, 0.2755102 ],\n",
              "       [0.        , 0.11538462, 0.19672131, 0.65306122],\n",
              "       [0.        , 0.61538462, 0.20491803, 0.55102041],\n",
              "       [0.        , 0.17307692, 0.20491803, 0.46938776],\n",
              "       [0.        , 0.21153846, 0.20491803, 0.41836735],\n",
              "       [0.        , 0.25      , 0.20491803, 0.41836735],\n",
              "       [0.        , 0.59615385, 0.22131148, 0.52040816],\n",
              "       [1.        , 0.28846154, 0.22131148, 0.60204082],\n",
              "       [0.        , 0.25      , 0.2295082 , 0.54081633],\n",
              "       [1.        , 0.78846154, 0.2295082 , 0.60204082],\n",
              "       [0.        , 0.61538462, 0.2295082 , 0.44897959],\n",
              "       [1.        , 0.55769231, 0.2295082 , 0.40816327],\n",
              "       [0.        , 0.63461538, 0.23770492, 0.5       ],\n",
              "       [1.        , 0.98076923, 0.23770492, 0.45918367],\n",
              "       [0.        , 0.17307692, 0.25409836, 0.51020408],\n",
              "       [1.        , 0.67307692, 0.25409836, 0.45918367],\n",
              "       [1.        , 1.        , 0.25409836, 0.56122449],\n",
              "       [1.        , 0.01923077, 0.25409836, 0.55102041],\n",
              "       [0.        , 0.94230769, 0.26229508, 0.52040816],\n",
              "       [0.        , 0.69230769, 0.26229508, 0.59183673],\n",
              "       [1.        , 0.86538462, 0.2704918 , 0.51020408],\n",
              "       [1.        , 0.        , 0.2704918 , 0.59183673],\n",
              "       [0.        , 0.48076923, 0.2704918 , 0.5       ],\n",
              "       [0.        , 0.96153846, 0.2704918 , 0.47959184],\n",
              "       [1.        , 0.01923077, 0.2704918 , 0.59183673],\n",
              "       [0.        , 0.26923077, 0.2704918 , 0.46938776],\n",
              "       [1.        , 1.        , 0.27868852, 0.55102041],\n",
              "       [0.        , 0.55769231, 0.27868852, 0.41836735],\n",
              "       [0.        , 0.80769231, 0.28688525, 0.48979592],\n",
              "       [0.        , 0.80769231, 0.28688525, 0.56122449],\n",
              "       [1.        , 0.78846154, 0.31967213, 0.46938776],\n",
              "       [1.        , 0.15384615, 0.31967213, 0.54081633],\n",
              "       [0.        , 0.51923077, 0.31967213, 0.53061224],\n",
              "       [1.        , 0.42307692, 0.31967213, 0.47959184],\n",
              "       [0.        , 0.09615385, 0.31967213, 0.52040816],\n",
              "       [0.        , 0.59615385, 0.31967213, 0.41836735],\n",
              "       [1.        , 0.75      , 0.31967213, 0.51020408],\n",
              "       [1.        , 0.38461538, 0.31967213, 0.55102041],\n",
              "       [1.        , 0.94230769, 0.31967213, 0.40816327],\n",
              "       [0.        , 0.53846154, 0.31967213, 0.43877551],\n",
              "       [0.        , 0.05769231, 0.31967213, 0.57142857],\n",
              "       [1.        , 0.57692308, 0.31967213, 0.45918367],\n",
              "       [0.        , 0.71153846, 0.3442623 , 0.58163265],\n",
              "       [0.        , 0.07692308, 0.3442623 , 0.55102041],\n",
              "       [0.        , 0.30769231, 0.35245902, 0.60204082],\n",
              "       [0.        , 0.61538462, 0.35245902, 0.45918367],\n",
              "       [0.        , 0.96153846, 0.36065574, 0.55102041],\n",
              "       [1.        , 0.        , 0.36065574, 0.40816327],\n",
              "       [1.        , 0.57692308, 0.36885246, 0.48979592],\n",
              "       [0.        , 0.42307692, 0.36885246, 0.39795918],\n",
              "       [0.        , 0.26923077, 0.36885246, 0.41836735],\n",
              "       [1.        , 0.11538462, 0.36885246, 0.52040816],\n",
              "       [0.        , 0.55769231, 0.36885246, 0.46938776],\n",
              "       [0.        , 0.17307692, 0.36885246, 0.5       ],\n",
              "       [1.        , 0.57692308, 0.37704918, 0.41836735],\n",
              "       [1.        , 0.03846154, 0.37704918, 0.48979592],\n",
              "       [0.        , 0.09615385, 0.3852459 , 0.40816327],\n",
              "       [0.        , 0.59615385, 0.3852459 , 0.47959184],\n",
              "       [1.        , 0.94230769, 0.3852459 , 0.59183673],\n",
              "       [1.        , 0.15384615, 0.3852459 , 0.55102041],\n",
              "       [1.        , 0.59615385, 0.3852459 , 0.56122449],\n",
              "       [0.        , 0.05769231, 0.3852459 , 0.41836735],\n",
              "       [0.        , 0.92307692, 0.39344262, 0.5       ],\n",
              "       [1.        , 0.69230769, 0.39344262, 0.45918367],\n",
              "       [1.        , 0.96153846, 0.39344262, 0.42857143],\n",
              "       [1.        , 0.92307692, 0.39344262, 0.47959184],\n",
              "       [1.        , 0.90384615, 0.39344262, 0.52040816],\n",
              "       [0.        , 0.01923077, 0.39344262, 0.54081633],\n",
              "       [0.        , 0.38461538, 0.40163934, 0.41836735],\n",
              "       [1.        , 0.01923077, 0.40163934, 0.45918367],\n",
              "       [0.        , 0.        , 0.40983607, 0.47959184],\n",
              "       [0.        , 0.01923077, 0.40983607, 0.5       ],\n",
              "       [0.        , 0.86538462, 0.40983607, 0.42857143],\n",
              "       [0.        , 0.59615385, 0.40983607, 0.59183673],\n",
              "       [0.        , 0.63461538, 0.42622951, 0.42857143],\n",
              "       [0.        , 0.61538462, 0.42622951, 0.57142857],\n",
              "       [1.        , 0.17307692, 0.42622951, 0.56122449],\n",
              "       [0.        , 0.38461538, 0.42622951, 0.39795918],\n",
              "       [0.        , 0.42307692, 0.44262295, 0.58163265],\n",
              "       [1.        , 0.40384615, 0.44262295, 0.91836735],\n",
              "       [0.        , 0.09615385, 0.45081967, 0.28571429],\n",
              "       [0.        , 0.25      , 0.45081967, 0.7755102 ],\n",
              "       [1.        , 0.48076923, 0.45901639, 0.34693878],\n",
              "       [1.        , 0.42307692, 0.45901639, 0.95918367],\n",
              "       [1.        , 0.78846154, 0.45901639, 0.10204082],\n",
              "       [1.        , 0.38461538, 0.45901639, 0.75510204],\n",
              "       [1.        , 0.55769231, 0.45901639, 0.08163265],\n",
              "       [1.        , 0.40384615, 0.45901639, 0.75510204],\n",
              "       [0.        , 0.13461538, 0.46721311, 0.33673469],\n",
              "       [0.        , 0.25      , 0.46721311, 0.71428571],\n",
              "       [1.        , 0.03846154, 0.47540984, 0.04081633],\n",
              "       [0.        , 0.21153846, 0.47540984, 0.8877551 ],\n",
              "       [0.        , 0.5       , 0.47540984, 0.06122449],\n",
              "       [1.        , 0.26923077, 0.47540984, 0.73469388],\n",
              "       [1.        , 0.01923077, 0.48360656, 0.09183673],\n",
              "       [0.        , 0.32692308, 0.48360656, 0.7244898 ],\n",
              "       [0.        , 0.75      , 0.49180328, 0.04081633],\n",
              "       [1.        , 0.26923077, 0.49180328, 0.93877551],\n",
              "       [0.        , 0.19230769, 0.5       , 0.39795918],\n",
              "       [0.        , 0.26923077, 0.5       , 0.87755102],\n",
              "       [1.        , 0.13461538, 0.50819672, 0.1122449 ],\n",
              "       [1.        , 0.19230769, 0.50819672, 0.97959184],\n",
              "       [1.        , 0.57692308, 0.50819672, 0.35714286],\n",
              "       [0.        , 0.26923077, 0.50819672, 0.74489796],\n",
              "       [0.        , 0.30769231, 0.51639344, 0.21428571],\n",
              "       [1.        , 0.30769231, 0.51639344, 0.90816327],\n",
              "       [1.        , 0.48076923, 0.51639344, 0.16326531],\n",
              "       [1.        , 0.40384615, 0.51639344, 0.8877551 ],\n",
              "       [0.        , 0.5       , 0.51639344, 0.19387755],\n",
              "       [0.        , 0.38461538, 0.51639344, 0.76530612],\n",
              "       [0.        , 0.55769231, 0.51639344, 0.15306122],\n",
              "       [0.        , 0.17307692, 0.51639344, 0.89795918],\n",
              "       [1.        , 0.36538462, 0.51639344, 0.        ],\n",
              "       [0.        , 0.23076923, 0.51639344, 0.78571429],\n",
              "       [1.        , 0.30769231, 0.51639344, 0.        ],\n",
              "       [0.        , 0.23076923, 0.51639344, 0.73469388],\n",
              "       [0.        , 0.73076923, 0.52459016, 0.34693878],\n",
              "       [0.        , 0.21153846, 0.52459016, 0.83673469],\n",
              "       [1.        , 0.01923077, 0.54098361, 0.04081633],\n",
              "       [0.        , 0.25      , 0.54098361, 0.93877551],\n",
              "       [1.        , 0.61538462, 0.57377049, 0.25510204],\n",
              "       [0.        , 0.34615385, 0.57377049, 0.75510204],\n",
              "       [1.        , 0.46153846, 0.58196721, 0.19387755],\n",
              "       [0.        , 0.28846154, 0.58196721, 0.95918367],\n",
              "       [0.        , 0.34615385, 0.59016393, 0.26530612],\n",
              "       [1.        , 0.26923077, 0.59016393, 0.63265306],\n",
              "       [1.        , 0.42307692, 0.59016393, 0.12244898],\n",
              "       [1.        , 0.19230769, 0.59016393, 0.75510204],\n",
              "       [1.        , 0.34615385, 0.59016393, 0.09183673],\n",
              "       [1.        , 0.34615385, 0.59016393, 0.92857143],\n",
              "       [0.        , 0.65384615, 0.59836066, 0.12244898],\n",
              "       [0.        , 0.23076923, 0.59836066, 0.86734694],\n",
              "       [1.        , 0.76923077, 0.59836066, 0.14285714],\n",
              "       [1.        , 0.17307692, 0.59836066, 0.69387755],\n",
              "       [1.        , 0.78846154, 0.63934426, 0.13265306],\n",
              "       [1.        , 0.32692308, 0.63934426, 0.90816327],\n",
              "       [0.        , 0.36538462, 0.67213115, 0.31632653],\n",
              "       [0.        , 0.26923077, 0.67213115, 0.86734694],\n",
              "       [1.        , 0.53846154, 0.68032787, 0.14285714],\n",
              "       [0.        , 0.21153846, 0.68032787, 0.8877551 ],\n",
              "       [0.        , 0.44230769, 0.68852459, 0.3877551 ],\n",
              "       [1.        , 0.23076923, 0.68852459, 0.97959184],\n",
              "       [0.        , 0.69230769, 0.70491803, 0.23469388],\n",
              "       [1.        , 0.19230769, 0.70491803, 0.68367347],\n",
              "       [0.        , 0.44230769, 0.72131148, 0.16326531],\n",
              "       [0.        , 0.34615385, 0.72131148, 0.85714286],\n",
              "       [0.        , 0.30769231, 0.72131148, 0.2244898 ],\n",
              "       [0.        , 0.26923077, 0.72131148, 0.69387755],\n",
              "       [1.        , 0.28846154, 0.80327869, 0.07142857],\n",
              "       [0.        , 0.38461538, 0.80327869, 0.91836735],\n",
              "       [0.        , 0.55769231, 0.86065574, 0.15306122],\n",
              "       [0.        , 0.32692308, 0.86065574, 0.79591837],\n",
              "       [0.        , 0.51923077, 0.90983607, 0.2755102 ],\n",
              "       [1.        , 0.26923077, 0.90983607, 0.74489796],\n",
              "       [1.        , 0.26923077, 1.        , 0.17346939],\n",
              "       [1.        , 0.23076923, 1.        , 0.83673469]])"
            ]
          },
          "metadata": {},
          "execution_count": 21
        }
      ]
    },
    {
      "cell_type": "markdown",
      "metadata": {
        "id": "CnQCAsNATA0Q"
      },
      "source": [
        "##Model Training"
      ]
    },
    {
      "cell_type": "code",
      "execution_count": 17,
      "metadata": {
        "id": "F0jWyly_SjVB"
      },
      "outputs": [],
      "source": [
        "from sklearn import cluster"
      ]
    },
    {
      "cell_type": "code",
      "execution_count": 18,
      "metadata": {
        "colab": {
          "base_uri": "https://localhost:8080/"
        },
        "id": "32vnsxVMTGyM",
        "outputId": "cfac93f1-9fa5-456f-b416-eb3cfb00d24b"
      },
      "outputs": [
        {
          "output_type": "stream",
          "name": "stderr",
          "text": [
            "/usr/local/lib/python3.10/dist-packages/sklearn/cluster/_kmeans.py:870: FutureWarning: The default value of `n_init` will change from 10 to 'auto' in 1.4. Set the value of `n_init` explicitly to suppress the warning\n",
            "  warnings.warn(\n",
            "/usr/local/lib/python3.10/dist-packages/sklearn/cluster/_kmeans.py:870: FutureWarning: The default value of `n_init` will change from 10 to 'auto' in 1.4. Set the value of `n_init` explicitly to suppress the warning\n",
            "  warnings.warn(\n",
            "/usr/local/lib/python3.10/dist-packages/sklearn/cluster/_kmeans.py:870: FutureWarning: The default value of `n_init` will change from 10 to 'auto' in 1.4. Set the value of `n_init` explicitly to suppress the warning\n",
            "  warnings.warn(\n",
            "/usr/local/lib/python3.10/dist-packages/sklearn/cluster/_kmeans.py:870: FutureWarning: The default value of `n_init` will change from 10 to 'auto' in 1.4. Set the value of `n_init` explicitly to suppress the warning\n",
            "  warnings.warn(\n",
            "/usr/local/lib/python3.10/dist-packages/sklearn/cluster/_kmeans.py:870: FutureWarning: The default value of `n_init` will change from 10 to 'auto' in 1.4. Set the value of `n_init` explicitly to suppress the warning\n",
            "  warnings.warn(\n",
            "/usr/local/lib/python3.10/dist-packages/sklearn/cluster/_kmeans.py:870: FutureWarning: The default value of `n_init` will change from 10 to 'auto' in 1.4. Set the value of `n_init` explicitly to suppress the warning\n",
            "  warnings.warn(\n",
            "/usr/local/lib/python3.10/dist-packages/sklearn/cluster/_kmeans.py:870: FutureWarning: The default value of `n_init` will change from 10 to 'auto' in 1.4. Set the value of `n_init` explicitly to suppress the warning\n",
            "  warnings.warn(\n",
            "/usr/local/lib/python3.10/dist-packages/sklearn/cluster/_kmeans.py:870: FutureWarning: The default value of `n_init` will change from 10 to 'auto' in 1.4. Set the value of `n_init` explicitly to suppress the warning\n",
            "  warnings.warn(\n",
            "/usr/local/lib/python3.10/dist-packages/sklearn/cluster/_kmeans.py:870: FutureWarning: The default value of `n_init` will change from 10 to 'auto' in 1.4. Set the value of `n_init` explicitly to suppress the warning\n",
            "  warnings.warn(\n",
            "/usr/local/lib/python3.10/dist-packages/sklearn/cluster/_kmeans.py:870: FutureWarning: The default value of `n_init` will change from 10 to 'auto' in 1.4. Set the value of `n_init` explicitly to suppress the warning\n",
            "  warnings.warn(\n"
          ]
        }
      ],
      "source": [
        "error=[]\n",
        "for i in range(1,11):\n",
        "  kmeans=cluster.KMeans(n_clusters=i,init='k-means++',random_state=0)\n",
        "  kmeans.fit(new_df)\n",
        "  error.append(kmeans.inertia_)"
      ]
    },
    {
      "cell_type": "code",
      "execution_count": 19,
      "metadata": {
        "colab": {
          "base_uri": "https://localhost:8080/"
        },
        "id": "lp3_2HUrUGli",
        "outputId": "fe57f736-16bf-4d14-a851-61b6df68b4bd"
      },
      "outputs": [
        {
          "output_type": "execute_result",
          "data": {
            "text/plain": [
              "[86.68148216035944,\n",
              " 37.27227241211876,\n",
              " 29.552857611943857,\n",
              " 22.39096001192855,\n",
              " 19.07663788272297,\n",
              " 16.42946794469996,\n",
              " 14.22521748204564,\n",
              " 12.223518502025357,\n",
              " 10.600432969550852,\n",
              " 9.399802915576311]"
            ]
          },
          "metadata": {},
          "execution_count": 19
        }
      ],
      "source": [
        "error"
      ]
    },
    {
      "cell_type": "code",
      "execution_count": 20,
      "metadata": {
        "colab": {
          "base_uri": "https://localhost:8080/",
          "height": 472
        },
        "id": "uTtkw8GkUL_D",
        "outputId": "eb50f3cd-db28-499f-8238-cc373dbc4cc6"
      },
      "outputs": [
        {
          "output_type": "display_data",
          "data": {
            "text/plain": [
              "<Figure size 640x480 with 1 Axes>"
            ],
            "image/png": "[encoded data removed]"
          },
          "metadata": {}
        }
      ],
      "source": [
        "import matplotlib.pyplot as plt\n",
        "plt.plot(range(1,11),error)\n",
        "plt.title('Elbow method')\n",
        "plt.xlabel(\"number of clusters\")\n",
        "plt.ylabel('error')\n",
        "plt.show()"
      ]
    },
    {
      "cell_type": "code",
      "execution_count": 22,
      "metadata": {
        "id": "V3BZMACRUbj7"
      },
      "outputs": [],
      "source": [
        "km_model = cluster.KMeans(n_clusters=3,init = 'k-means++',random_state=0)"
      ]
    },
    {
      "cell_type": "code",
      "execution_count": 23,
      "metadata": {
        "colab": {
          "base_uri": "https://localhost:8080/",
          "height": 129
        },
        "id": "5fPSZnYCUxD1",
        "outputId": "4a3575cc-745e-41ef-b5cc-dd5dc7f4a9d3"
      },
      "outputs": [
        {
          "output_type": "stream",
          "name": "stderr",
          "text": [
            "/usr/local/lib/python3.10/dist-packages/sklearn/cluster/_kmeans.py:870: FutureWarning: The default value of `n_init` will change from 10 to 'auto' in 1.4. Set the value of `n_init` explicitly to suppress the warning\n",
            "  warnings.warn(\n"
          ]
        },
        {
          "output_type": "execute_result",
          "data": {
            "text/plain": [
              "KMeans(n_clusters=3, random_state=0)"
            ],
            "text/html": [
              "<style>#sk-container-id-1 {color: black;background-color: white;}#sk-container-id-1 pre{padding: 0;}#sk-container-id-1 div.sk-toggleable {background-color: white;}#sk-container-id-1 label.sk-toggleable__label {cursor: pointer;display: block;width: 100%;margin-bottom: 0;padding: 0.3em;box-sizing: border-box;text-align: center;}#sk-container-id-1 label.sk-toggleable__label-arrow:before {content: \"▸\";float: left;margin-right: 0.25em;color: #696969;}#sk-container-id-1 label.sk-toggleable__label-arrow:hover:before {color: black;}#sk-container-id-1 div.sk-estimator:hover label.sk-toggleable__label-arrow:before {color: black;}#sk-container-id-1 div.sk-toggleable__content {max-height: 0;max-width: 0;overflow: hidden;text-align: left;background-color: #f0f8ff;}#sk-container-id-1 div.sk-toggleable__content pre {margin: 0.2em;color: black;border-radius: 0.25em;background-color: #f0f8ff;}#sk-container-id-1 input.sk-toggleable__control:checked~div.sk-toggleable__content {max-height: 200px;max-width: 100%;overflow: auto;}#sk-container-id-1 input.sk-toggleable__control:checked~label.sk-toggleable__label-arrow:before {content: \"▾\";}#sk-container-id-1 div.sk-estimator input.sk-toggleable__control:checked~label.sk-toggleable__label {background-color: #d4ebff;}#sk-container-id-1 div.sk-label input.sk-toggleable__control:checked~label.sk-toggleable__label {background-color: #d4ebff;}#sk-container-id-1 input.sk-hidden--visually {border: 0;clip: rect(1px 1px 1px 1px);clip: rect(1px, 1px, 1px, 1px);height: 1px;margin: -1px;overflow: hidden;padding: 0;position: absolute;width: 1px;}#sk-container-id-1 div.sk-estimator {font-family: monospace;background-color: #f0f8ff;border: 1px dotted black;border-radius: 0.25em;box-sizing: border-box;margin-bottom: 0.5em;}#sk-container-id-1 div.sk-estimator:hover {background-color: #d4ebff;}#sk-container-id-1 div.sk-parallel-item::after {content: \"\";width: 100%;border-bottom: 1px solid gray;flex-grow: 1;}#sk-container-id-1 div.sk-label:hover label.sk-toggleable__label {background-color: #d4ebff;}#sk-container-id-1 div.sk-serial::before {content: \"\";position: absolute;border-left: 1px solid gray;box-sizing: border-box;top: 0;bottom: 0;left: 50%;z-index: 0;}#sk-container-id-1 div.sk-serial {display: flex;flex-direction: column;align-items: center;background-color: white;padding-right: 0.2em;padding-left: 0.2em;position: relative;}#sk-container-id-1 div.sk-item {position: relative;z-index: 1;}#sk-container-id-1 div.sk-parallel {display: flex;align-items: stretch;justify-content: center;background-color: white;position: relative;}#sk-container-id-1 div.sk-item::before, #sk-container-id-1 div.sk-parallel-item::before {content: \"\";position: absolute;border-left: 1px solid gray;box-sizing: border-box;top: 0;bottom: 0;left: 50%;z-index: -1;}#sk-container-id-1 div.sk-parallel-item {display: flex;flex-direction: column;z-index: 1;position: relative;background-color: white;}#sk-container-id-1 div.sk-parallel-item:first-child::after {align-self: flex-end;width: 50%;}#sk-container-id-1 div.sk-parallel-item:last-child::after {align-self: flex-start;width: 50%;}#sk-container-id-1 div.sk-parallel-item:only-child::after {width: 0;}#sk-container-id-1 div.sk-dashed-wrapped {border: 1px dashed gray;margin: 0 0.4em 0.5em 0.4em;box-sizing: border-box;padding-bottom: 0.4em;background-color: white;}#sk-container-id-1 div.sk-label label {font-family: monospace;font-weight: bold;display: inline-block;line-height: 1.2em;}#sk-container-id-1 div.sk-label-container {text-align: center;}#sk-container-id-1 div.sk-container {/* jupyter's `normalize.less` sets `[hidden] { display: none; }` but bootstrap.min.css set `[hidden] { display: none !important; }` so we also need the `!important` here to be able to override the default hidden behavior on the sphinx rendered scikit-learn.org. See: https://github.com/scikit-learn/scikit-learn/issues/21755 */display: inline-block !important;position: relative;}#sk-container-id-1 div.sk-text-repr-fallback {display: none;}</style><div id=\"sk-container-id-1\" class=\"sk-top-container\"><div class=\"sk-text-repr-fallback\"><pre>KMeans(n_clusters=3, random_state=0)</pre><b>In a Jupyter environment, please rerun this cell to show the HTML representation or trust the notebook. <br />On GitHub, the HTML representation is unable to render, please try loading this page with nbviewer.org.</b></div><div class=\"sk-container\" hidden><div class=\"sk-item\"><div class=\"sk-estimator sk-toggleable\"><input class=\"sk-toggleable__control sk-hidden--visually\" id=\"sk-estimator-id-1\" type=\"checkbox\" checked><label for=\"sk-estimator-id-1\" class=\"sk-toggleable__label sk-toggleable__label-arrow\">KMeans</label><div class=\"sk-toggleable__content\"><pre>KMeans(n_clusters=3, random_state=0)</pre></div></div></div></div></div>"
            ]
          },
          "metadata": {},
          "execution_count": 23
        }
      ],
      "source": [
        "km_model.fit(new_df)"
      ]
    },
    {
      "cell_type": "code",
      "execution_count": 40,
      "metadata": {
        "colab": {
          "base_uri": "https://localhost:8080/"
        },
        "id": "5OPO0H0aU2jn",
        "outputId": "0b277f3e-341c-45eb-b35e-94f5d0d1f7a2"
      },
      "outputs": [
        {
          "output_type": "execute_result",
          "data": {
            "text/plain": [
              "array([1.        , 0.01923077, 0.        , 0.3877551 ])"
            ]
          },
          "metadata": {},
          "execution_count": 40
        }
      ],
      "source": [
        "pred=km_model.predict(new_df)\n",
        "pred\n",
        "new_df[0]"
      ]
    },
    {
      "cell_type": "code",
      "source": [
        "km_model.predict([[0,0.5,0.5,0.5]])"
      ],
      "metadata": {
        "colab": {
          "base_uri": "https://localhost:8080/"
        },
        "id": "rct-uV5w7_pP",
        "outputId": "5688b548-ac00-47ce-f1a2-fea5ca3ec129"
      },
      "execution_count": 44,
      "outputs": [
        {
          "output_type": "execute_result",
          "data": {
            "text/plain": [
              "array([0], dtype=int32)"
            ]
          },
          "metadata": {},
          "execution_count": 44
        }
      ]
    },
    {
      "cell_type": "code",
      "execution_count": 25,
      "metadata": {
        "id": "kPn38altU6sM"
      },
      "outputs": [],
      "source": [
        "from sklearn.metrics import silhouette_score\n"
      ]
    },
    {
      "cell_type": "code",
      "execution_count": 26,
      "metadata": {
        "id": "6ALh1YQucKfg",
        "colab": {
          "base_uri": "https://localhost:8080/"
        },
        "outputId": "240ab011-1f61-4352-d39a-8132078b822a"
      },
      "outputs": [
        {
          "output_type": "stream",
          "name": "stdout",
          "text": [
            "The average silhouette score is: 0.45835255811254244\n"
          ]
        }
      ],
      "source": [
        "silhouette_avg = silhouette_score(new_df,pred)\n",
        "print('The average silhouette score is:', silhouette_avg)"
      ]
    }
  ],
  "metadata": {
    "colab": {
      "provenance": []
    },
    "kernelspec": {
      "display_name": "Python 3",
      "name": "python3"
    },
    "language_info": {
      "name": "python"
    }
  },
  "nbformat": 4,
  "nbformat_minor": 0
}